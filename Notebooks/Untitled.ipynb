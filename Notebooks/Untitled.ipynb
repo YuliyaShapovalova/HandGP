{
 "cells": [
  {
   "cell_type": "code",
   "execution_count": 40,
   "metadata": {},
   "outputs": [],
   "source": [
    "import numpy as np\n",
    "import pandas as pd"
   ]
  },
  {
   "cell_type": "markdown",
   "metadata": {},
   "source": [
    "## Assignment\n",
    "\n",
    "$\\alpha + b^2$"
   ]
  },
  {
   "cell_type": "code",
   "execution_count": 41,
   "metadata": {},
   "outputs": [],
   "source": [
    "df = pd.read_csv('GrecoSimulatedData.csv', sep=';')\n",
    "df = df.iloc[2:]\n",
    "df = df.sort_values(by=['Dose1', 'Dose2'])\n"
   ]
  },
  {
   "cell_type": "code",
   "execution_count": 42,
   "metadata": {},
   "outputs": [],
   "source": [
    "effect = np.asarray(df['Response']).T"
   ]
  },
  {
   "cell_type": "code",
   "execution_count": 43,
   "metadata": {},
   "outputs": [
    {
     "data": {
      "text/plain": [
       "array([[115.  ,  79.2 ,  70.1 ,  49.  ,  21.  ,   3.83],\n",
       "       [ 74.2 ,  76.3 ,  48.8 ,  44.5 ,  15.5 ,   3.21],\n",
       "       [ 71.5 ,  56.7 ,  47.5 ,  26.8 ,  16.9 ,   3.25],\n",
       "       [ 48.1 ,  46.7 ,  35.6 ,  21.5 ,  11.1 ,   2.94],\n",
       "       [ 30.9 ,  24.8 ,  21.6 ,  17.3 ,   7.78,   1.84],\n",
       "       [ 16.3 ,  13.6 ,  11.1 ,   6.43,   3.34,   0.89]])"
      ]
     },
     "execution_count": 43,
     "metadata": {},
     "output_type": "execute_result"
    }
   ],
   "source": [
    "effect.reshape(6,6)"
   ]
  },
  {
   "cell_type": "code",
   "execution_count": null,
   "metadata": {},
   "outputs": [],
   "source": []
  },
  {
   "cell_type": "code",
   "execution_count": 44,
   "metadata": {},
   "outputs": [
    {
     "data": {
      "text/plain": [
       "array([[0., 1., 2.],\n",
       "       [3., 4., 5.],\n",
       "       [6., 7., 8.]])"
      ]
     },
     "execution_count": 44,
     "metadata": {},
     "output_type": "execute_result"
    }
   ],
   "source": [
    "np.asarray([0.0,1.0,2.0,3.0,4.0,5.0,6.0,7.0,8.0]).reshape(3,3)"
   ]
  },
  {
   "cell_type": "code",
   "execution_count": null,
   "metadata": {},
   "outputs": [],
   "source": []
  }
 ],
 "metadata": {
  "kernelspec": {
   "display_name": "Python 3",
   "language": "python",
   "name": "python3"
  },
  "language_info": {
   "codemirror_mode": {
    "name": "ipython",
    "version": 3
   },
   "file_extension": ".py",
   "mimetype": "text/x-python",
   "name": "python",
   "nbconvert_exporter": "python",
   "pygments_lexer": "ipython3",
   "version": "3.7.4"
  }
 },
 "nbformat": 4,
 "nbformat_minor": 2
}
